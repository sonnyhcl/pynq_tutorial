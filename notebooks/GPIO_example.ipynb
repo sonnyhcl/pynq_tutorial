{
 "cells": [
  {
   "cell_type": "markdown",
   "metadata": {},
   "source": [
    "# Pynq GPIO tutorial using MMIO\n"
   ]
  },
  {
   "cell_type": "markdown",
   "metadata": {},
   "source": [
    "Load Tutorial Overlay\n",
    "![diagram](data/diagram.png)"
   ]
  },
  {
   "cell_type": "code",
   "execution_count": 1,
   "metadata": {
    "collapsed": true
   },
   "outputs": [],
   "source": [
    "import pynq\n",
    "class TutorialOverlay(pynq.Overlay):\n",
    "    def __init__(self, bitfile, **kwargs):\n",
    "        super().__init__(bitfile, **kwargs)\n",
    "\n",
    "ol = TutorialOverlay(\"/home/xilinx/jupyter_notebooks/pynq_tutorial/hw/bitstream/pynq_tutorial.bit\")"
   ]
  },
  {
   "cell_type": "markdown",
   "metadata": {},
   "source": [
    "Check addresses of IP in the overlay\n",
    "![address_editor](data/address_editor.png)"
   ]
  },
  {
   "cell_type": "code",
   "execution_count": 2,
   "metadata": {},
   "outputs": [
    {
     "name": "stdout",
     "output_type": "stream",
     "text": [
      "{'axi_dma_from_pl_to_ps': {'addr_range': 65536,\n",
      "                           'driver': <class 'pynq.lib.dma.DMA'>,\n",
      "                           'fullpath': 'axi_dma_from_pl_to_ps',\n",
      "                           'gpio': {},\n",
      "                           'interrupts': {'s2mm_introut': {'controller': 'system_interrupts',\n",
      "                                                           'fullpath': 'axi_dma_from_pl_to_ps/s2mm_introut',\n",
      "                                                           'index': 1}},\n",
      "                           'phys_addr': 1078001664,\n",
      "                           'state': None,\n",
      "                           'type': 'xilinx.com:ip:axi_dma:7.1'},\n",
      " 'axi_dma_from_ps_to_pl': {'addr_range': 65536,\n",
      "                           'driver': <class 'pynq.lib.dma.DMA'>,\n",
      "                           'fullpath': 'axi_dma_from_ps_to_pl',\n",
      "                           'gpio': {},\n",
      "                           'interrupts': {'mm2s_introut': {'controller': 'system_interrupts',\n",
      "                                                           'fullpath': 'axi_dma_from_ps_to_pl/mm2s_introut',\n",
      "                                                           'index': 0}},\n",
      "                           'phys_addr': 1077936128,\n",
      "                           'state': None,\n",
      "                           'type': 'xilinx.com:ip:axi_dma:7.1'},\n",
      " 'btns_gpio': {'addr_range': 65536,\n",
      "               'driver': <class 'pynq.lib.axigpio.AxiGPIO'>,\n",
      "               'fullpath': 'btns_gpio',\n",
      "               'gpio': {},\n",
      "               'interrupts': {'ip2intc_irpt': {'controller': 'system_interrupts',\n",
      "                                               'fullpath': 'btns_gpio/ip2intc_irpt',\n",
      "                                               'index': 4}},\n",
      "               'phys_addr': 1092681728,\n",
      "               'state': None,\n",
      "               'type': 'xilinx.com:ip:axi_gpio:2.0'},\n",
      " 'mb_bram_ctrl_1': {'addr_range': 65536,\n",
      "                    'driver': <class 'pynq.overlay.DefaultIP'>,\n",
      "                    'fullpath': 'mb_bram_ctrl_1',\n",
      "                    'gpio': {},\n",
      "                    'interrupts': {},\n",
      "                    'phys_addr': 1073741824,\n",
      "                    'state': None,\n",
      "                    'type': 'xilinx.com:ip:axi_bram_ctrl:4.0'},\n",
      " 'mb_bram_ctrl_2': {'addr_range': 65536,\n",
      "                    'driver': <class 'pynq.overlay.DefaultIP'>,\n",
      "                    'fullpath': 'mb_bram_ctrl_2',\n",
      "                    'gpio': {},\n",
      "                    'interrupts': {},\n",
      "                    'phys_addr': 1107296256,\n",
      "                    'state': None,\n",
      "                    'type': 'xilinx.com:ip:axi_bram_ctrl:4.0'},\n",
      " 'rgbleds_gpio': {'addr_range': 65536,\n",
      "                  'driver': <class 'pynq.lib.axigpio.AxiGPIO'>,\n",
      "                  'fullpath': 'rgbleds_gpio',\n",
      "                  'gpio': {},\n",
      "                  'interrupts': {},\n",
      "                  'phys_addr': 1092747264,\n",
      "                  'state': None,\n",
      "                  'type': 'xilinx.com:ip:axi_gpio:2.0'},\n",
      " 'swsleds_gpio': {'addr_range': 65536,\n",
      "                  'driver': <class 'pynq.lib.axigpio.AxiGPIO'>,\n",
      "                  'fullpath': 'swsleds_gpio',\n",
      "                  'gpio': {},\n",
      "                  'interrupts': {'ip2intc_irpt': {'controller': 'system_interrupts',\n",
      "                                                  'fullpath': 'swsleds_gpio/ip2intc_irpt',\n",
      "                                                  'index': 5}},\n",
      "                  'phys_addr': 1092616192,\n",
      "                  'state': None,\n",
      "                  'type': 'xilinx.com:ip:axi_gpio:2.0'},\n",
      " 'system_interrupts': {'addr_range': 65536,\n",
      "                       'driver': <class 'pynq.overlay.DefaultIP'>,\n",
      "                       'fullpath': 'system_interrupts',\n",
      "                       'gpio': {},\n",
      "                       'interrupts': {},\n",
      "                       'phys_addr': 1098907648,\n",
      "                       'state': None,\n",
      "                       'type': 'xilinx.com:ip:axi_intc:4.1'}}\n"
     ]
    }
   ],
   "source": [
    "import pprint as pp\n",
    "pp.pprint(ol.ip_dict)"
   ]
  },
  {
   "cell_type": "markdown",
   "metadata": {},
   "source": [
    "The addresses are in decimal. Check the address of the LED controller:"
   ]
  },
  {
   "cell_type": "code",
   "execution_count": 3,
   "metadata": {},
   "outputs": [
    {
     "name": "stdout",
     "output_type": "stream",
     "text": [
      "0x41200000\n"
     ]
    }
   ],
   "source": [
    "led_addr = ol.ip_dict[\"swsleds_gpio\"]['phys_addr']\n",
    "print(\"0x\" + format(led_addr, '02x'))"
   ]
  },
  {
   "cell_type": "markdown",
   "metadata": {},
   "source": [
    "## Set up PL GPIO LED controller\n",
    "\n",
    "Two LEDs are connected to PL and will be accessed from the MMIO class. Note the LEDs are on channel 2 of the GPIO controller."
   ]
  },
  {
   "cell_type": "code",
   "execution_count": 4,
   "metadata": {
    "collapsed": true
   },
   "outputs": [],
   "source": [
    "from pynq import MMIO\n",
    "CH2_OFFSET = 0x8\n",
    "leds = MMIO(led_addr + CH2_OFFSET)"
   ]
  },
  {
   "cell_type": "markdown",
   "metadata": {},
   "source": [
    "## Write to the LEDs\n",
    "This shoudl write to LD1 and LD0"
   ]
  },
  {
   "cell_type": "code",
   "execution_count": 5,
   "metadata": {
    "collapsed": true
   },
   "outputs": [],
   "source": [
    "leds.write(0, 1) # Turn on LD0"
   ]
  },
  {
   "cell_type": "code",
   "execution_count": 6,
   "metadata": {
    "collapsed": true
   },
   "outputs": [],
   "source": [
    "leds.write(0, 2) # Turn on LD1, and LD0 off"
   ]
  },
  {
   "cell_type": "code",
   "execution_count": 7,
   "metadata": {
    "collapsed": true
   },
   "outputs": [],
   "source": [
    "leds.write(0, 0) # Turn off both LEDs"
   ]
  },
  {
   "cell_type": "markdown",
   "metadata": {},
   "source": [
    "## Set up PL GPIO buttons controller\n",
    "\n",
    "Two push-buttons are connected to PL and will be accessed from the MMIO class. "
   ]
  },
  {
   "cell_type": "code",
   "execution_count": 8,
   "metadata": {
    "collapsed": true
   },
   "outputs": [],
   "source": [
    "from pynq import MMIO\n",
    "btn_addr = ol.ip_dict[\"btns_gpio\"][\"phys_addr\"]\n",
    "buttons = MMIO(btn_addr)"
   ]
  },
  {
   "cell_type": "markdown",
   "metadata": {},
   "source": [
    "## Read from pushbuttons\n",
    "\n",
    "This will read a 2-bit value from BTN1 and BTN0"
   ]
  },
  {
   "cell_type": "code",
   "execution_count": 9,
   "metadata": {},
   "outputs": [
    {
     "data": {
      "text/plain": [
       "0"
      ]
     },
     "execution_count": 9,
     "metadata": {},
     "output_type": "execute_result"
    }
   ],
   "source": [
    "buttons.read()"
   ]
  },
  {
   "cell_type": "markdown",
   "metadata": {},
   "source": [
    "## Set up PS EMIO GPIO LED controller"
   ]
  },
  {
   "cell_type": "code",
   "execution_count": 10,
   "metadata": {
    "collapsed": true
   },
   "outputs": [],
   "source": [
    "from pynq import GPIO"
   ]
  },
  {
   "cell_type": "markdown",
   "metadata": {},
   "source": [
    "EMIO GPIO pins 7 and 8 are connected to LD3 and LD4. GPIO pins need a lookup to determine the linux number of the GPIO pin. This is done with ** get_gpio_pin() **"
   ]
  },
  {
   "cell_type": "code",
   "execution_count": 11,
   "metadata": {
    "collapsed": true
   },
   "outputs": [],
   "source": [
    "ps_led2 = GPIO(GPIO.get_gpio_pin(7), 'out')\n",
    "ps_led3 = GPIO(GPIO.get_gpio_pin(8), 'out')"
   ]
  },
  {
   "cell_type": "markdown",
   "metadata": {},
   "source": [
    "Write something to the LEDs"
   ]
  },
  {
   "cell_type": "code",
   "execution_count": 12,
   "metadata": {
    "collapsed": true
   },
   "outputs": [],
   "source": [
    "ps_led2.write(0)\n",
    "ps_led3.write(1)"
   ]
  },
  {
   "cell_type": "code",
   "execution_count": 13,
   "metadata": {
    "collapsed": true
   },
   "outputs": [],
   "source": [
    "ps_led2.write(1)\n",
    "ps_led3.write(0)"
   ]
  },
  {
   "cell_type": "code",
   "execution_count": 14,
   "metadata": {
    "collapsed": true
   },
   "outputs": [],
   "source": [
    "ps_led2.write(0)\n",
    "ps_led3.write(0)"
   ]
  },
  {
   "cell_type": "markdown",
   "metadata": {},
   "source": [
    "## Set up PS EMIO GPIO buttons controller\n",
    "BTN3 and BTN2 on the board are connected to EMIO GPIO 0 and 1"
   ]
  },
  {
   "cell_type": "code",
   "execution_count": 15,
   "metadata": {
    "collapsed": true
   },
   "outputs": [],
   "source": [
    "ps_btn0 = GPIO(GPIO.get_gpio_pin(0), 'in')\n",
    "ps_btn1 = GPIO(GPIO.get_gpio_pin(1), 'in')"
   ]
  },
  {
   "cell_type": "code",
   "execution_count": 16,
   "metadata": {},
   "outputs": [
    {
     "name": "stdout",
     "output_type": "stream",
     "text": [
      "0\n",
      "0\n"
     ]
    }
   ],
   "source": [
    "print(ps_btn0.read())\n",
    "print(ps_btn1.read())"
   ]
  }
 ],
 "metadata": {
  "kernelspec": {
   "display_name": "Python 3",
   "language": "python",
   "name": "python3"
  },
  "language_info": {
   "codemirror_mode": {
    "name": "ipython",
    "version": 3
   },
   "file_extension": ".py",
   "mimetype": "text/x-python",
   "name": "python",
   "nbconvert_exporter": "python",
   "pygments_lexer": "ipython3",
   "version": "3.6.0"
  }
 },
 "nbformat": 4,
 "nbformat_minor": 2
}
