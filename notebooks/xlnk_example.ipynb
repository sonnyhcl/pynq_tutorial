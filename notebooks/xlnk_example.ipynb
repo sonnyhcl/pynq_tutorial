{
 "cells": [
  {
   "cell_type": "markdown",
   "metadata": {},
   "source": [
    "# Xlnk and Contiguous Memory Allocation\n",
    "\n",
    "Xlnk can assign a congiguous block of memory. The data in the memory buffer can be transferred efficiently between the PS and the PL.\n",
    "\n",
    "## Create an instance of Xlnk\n",
    "Xlnk instance will be labelled mmu"
   ]
  },
  {
   "cell_type": "code",
   "execution_count": 1,
   "metadata": {},
   "outputs": [
    {
     "data": {
      "application/javascript": [
       "\n",
       "require(['notebook/js/codecell'], function(codecell) {\n",
       "  codecell.CodeCell.options_default.highlight_modes[\n",
       "      'magic_text/x-csrc'] = {'reg':[/^%%microblaze/]};\n",
       "  Jupyter.notebook.events.one('kernel_ready.Kernel', function(){\n",
       "      Jupyter.notebook.get_cells().map(function(cell){\n",
       "          if (cell.cell_type == 'code'){ cell.auto_highlight(); } }) ;\n",
       "  });\n",
       "});\n"
      ]
     },
     "metadata": {},
     "output_type": "display_data"
    }
   ],
   "source": [
    "from pynq import Xlnk\n",
    "mmu = Xlnk()\n",
    "\n",
    "# define some\n",
    "def get_kb(mmu):\n",
    "    return int(mmu.cma_stats()['CMA Memory Available']//1024)\n",
    "\n",
    "def get_bufcount(mmu):\n",
    "    return int(memmanager.cma_stats()['Buffer Count'])\n",
    "\n",
    "def print_kb(mmu):\n",
    "    print(\"Available Memory (KB): \" + str(get_kb(mmu)))\n"
   ]
  },
  {
   "cell_type": "markdown",
   "metadata": {},
   "source": [
    "## Check the status of the mmu"
   ]
  },
  {
   "cell_type": "code",
   "execution_count": 2,
   "metadata": {},
   "outputs": [
    {
     "data": {
      "text/plain": [
       "{'Buffer Count': 0, 'CMA Memory Available': 107687936, 'CMA Memory Usage': 0}"
      ]
     },
     "execution_count": 2,
     "metadata": {},
     "output_type": "execute_result"
    }
   ],
   "source": [
    "mmu.cma_stats()"
   ]
  },
  {
   "cell_type": "code",
   "execution_count": 3,
   "metadata": {},
   "outputs": [
    {
     "name": "stdout",
     "output_type": "stream",
     "text": [
      "Before memory allocation:\n",
      "Available Memory (KB): 105164\n",
      "After memory allocation:\n",
      "Available Memory (KB): 104140\n"
     ]
    }
   ],
   "source": [
    "print(\"Before memory allocation:\")\n",
    "print_kb(mmu)\n",
    "# Allocate memory\n",
    "virtual_ptr = mmu.cma_alloc(1024*1024)\n",
    "physical_ptr = mmu.cma_get_phy_addr(virtual_ptr)\n",
    "print(\"After memory allocation:\")\n",
    "print_kb(mmu)"
   ]
  },
  {
   "cell_type": "markdown",
   "metadata": {},
   "source": [
    "## Check the memory buffer addresses\n",
    "\n",
    "The virtual address is used in Linux. The Physical address can be passed to a peripheral in the PL. "
   ]
  },
  {
   "cell_type": "code",
   "execution_count": 4,
   "metadata": {},
   "outputs": [
    {
     "name": "stdout",
     "output_type": "stream",
     "text": [
      "Buffer pointer address (virtual memory):\n",
      "<cdata 'void *' 0x2f257000>\n",
      "Buffer pointer address (physical memory):\n",
      "0x16900000\n"
     ]
    }
   ],
   "source": [
    "print(\"Buffer pointer address (virtual memory):\")\n",
    "print(virtual_ptr)\n",
    "print(\"Buffer pointer address (physical memory):\")\n",
    "print(\"0x\", format(physical_ptr, '02x'), sep='')"
   ]
  },
  {
   "cell_type": "markdown",
   "metadata": {},
   "source": [
    "## Free the memory"
   ]
  },
  {
   "cell_type": "code",
   "execution_count": 5,
   "metadata": {},
   "outputs": [
    {
     "name": "stdout",
     "output_type": "stream",
     "text": [
      "{'CMA Memory Available': 107036672, 'CMA Memory Usage': 0, 'Buffer Count': 0}\n",
      "Available Memory (KB): 104528\n"
     ]
    }
   ],
   "source": [
    "from time import sleep\n",
    "mmu.cma_free(virtual_ptr)\n",
    "sleep(1)\n",
    "print(mmu.cma_stats())\n",
    "print_kb(mmu)"
   ]
  }
 ],
 "metadata": {
  "kernelspec": {
   "display_name": "Python 3",
   "language": "python",
   "name": "python3"
  },
  "language_info": {
   "codemirror_mode": {
    "name": "ipython",
    "version": 3
   },
   "file_extension": ".py",
   "mimetype": "text/x-python",
   "name": "python",
   "nbconvert_exporter": "python",
   "pygments_lexer": "ipython3",
   "version": "3.6.0"
  }
 },
 "nbformat": 4,
 "nbformat_minor": 1
}
